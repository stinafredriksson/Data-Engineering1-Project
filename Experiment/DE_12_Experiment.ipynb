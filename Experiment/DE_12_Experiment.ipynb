{
 "cells": [
  {
   "cell_type": "code",
   "execution_count": 7,
   "id": "dee279be-707e-49e7-a936-820729c39772",
   "metadata": {},
   "outputs": [
    {
     "name": "stderr",
     "output_type": "stream",
     "text": [
      "                                                                                \r"
     ]
    },
    {
     "name": "stdout",
     "output_type": "stream",
     "text": [
      "Top 10 of the most popular subreddits\n",
      "\n"
     ]
    },
    {
     "name": "stderr",
     "output_type": "stream",
     "text": [
      "                                                                                \r"
     ]
    },
    {
     "name": "stdout",
     "output_type": "stream",
     "text": [
      "+-------------------+------+\n",
      "|          subreddit| count|\n",
      "+-------------------+------+\n",
      "|          AskReddit|589947|\n",
      "|      relationships|352049|\n",
      "|    leagueoflegends|109307|\n",
      "|               tifu| 52219|\n",
      "|relationship_advice| 50416|\n",
      "|              trees| 47286|\n",
      "|             gaming| 43851|\n",
      "|            atheism| 43268|\n",
      "|      AdviceAnimals| 40783|\n",
      "|              funny| 40171|\n",
      "+-------------------+------+\n",
      "only showing top 10 rows\n",
      "\n",
      "Top 10 of the most frequent occurring words:\n",
      "\n"
     ]
    },
    {
     "name": "stderr",
     "output_type": "stream",
     "text": [
      "                                                                                \r"
     ]
    },
    {
     "name": "stdout",
     "output_type": "stream",
     "text": [
      "+----+--------+\n",
      "|word|   count|\n",
      "+----+--------+\n",
      "| the|38303658|\n",
      "|  to|34684398|\n",
      "|   I|34223440|\n",
      "| and|32121991|\n",
      "|   a|27233249|\n",
      "|  of|19675785|\n",
      "|that|13871944|\n",
      "|  in|13539182|\n",
      "|  is|11695201|\n",
      "|  my|11226285|\n",
      "+----+--------+\n",
      "only showing top 10 rows\n",
      "\n",
      "Execution time: 1883.464242696762 seconds\n"
     ]
    }
   ],
   "source": [
    "import time\n",
    "from pyspark.sql import SparkSession\n",
    "from operator import add\n",
    "from pyspark.sql.functions import explode, split, desc\n",
    "\n",
    "#################### Setup spark session ####################\n",
    "\n",
    "# Stop running SparkSession if it exists\n",
    "if 'spark_session' in locals():\n",
    "    spark_session.stop()\n",
    "    \n",
    "spark_session = SparkSession\\\n",
    "        .builder\\\n",
    "        .master(\"spark://192.168.2.224:7077\") \\\n",
    "        .appName(\"Experiment\")\\\n",
    "        .config(\"spark.dynamicAllocation.enabled\", True)\\\n",
    "        .config(\"spark.dynamicAllocation.shuffleTracking.enabled\",True)\\\n",
    "        .config(\"spark.shuffle.service.enabled\", False)\\\n",
    "        .config(\"spark.dynamicAllocation.executorIdleTimeout\",\"30s\")\\\n",
    "        .config(\"spark.driver.port\",9999)\\\n",
    "        .config(\"spark.blockManager.port\",10005)\\\n",
    "        .getOrCreate()\n",
    "\n",
    "# RDD API\n",
    "spark_context = spark_session.sparkContext\n",
    "\n",
    "# Start time\n",
    "start_time = time.time()\n",
    "\n",
    "# Load reddit data\n",
    "reddit_df = spark_session.read.json(\"hdfs://192.168.2.224:9000/user/ubuntu/reddit/corpus-webis-tldr-17.json\")\n",
    "\n",
    "#################### Most popular subreddits ####################\n",
    "\n",
    "# Group by subreddit and count occurrences\n",
    "popular_subreddits = reddit_df.groupBy(\"subreddit\").count()\n",
    "\n",
    "# Sort by count in descending order to find the most popular subreddits\n",
    "popular_subreddits = popular_subreddits.orderBy(desc(\"count\"))\n",
    "\n",
    "# Show the top 10 most popular subreddits\n",
    "print(\"Top 10 of the most popular subreddits\\n\")\n",
    "popular_subreddits.show(10)\n",
    "\n",
    "#################### Most frequent occurring words ####################\n",
    "\n",
    "# Tokenize the text data in the body column\n",
    "words = reddit_df.select(explode(split(reddit_df.body, \"\\\\s+\")).alias(\"word\"))\n",
    "\n",
    "# Count occurrences of each word\n",
    "word_counts = words.groupBy(\"word\").count()\n",
    "\n",
    "# Sort by count in descending order to find the most frequent words\n",
    "most_frequent_words = word_counts.orderBy(desc(\"count\"))\n",
    "\n",
    "# Show the top 10 most frequent words\n",
    "print(\"Top 10 of the most frequent occurring words:\\n\")\n",
    "most_frequent_words.show(10)\n",
    "\n",
    "#################### Execution time measurement ####################\n",
    "\n",
    "# End time\n",
    "end_time = time.time()\n",
    "\n",
    "# Calculate duration\n",
    "duration = end_time - start_time\n",
    "\n",
    "# Print duration\n",
    "print(\"Execution time:\", duration, \"seconds\")\n",
    "\n",
    "#################### Stop spark session ####################\n",
    "\n",
    "# release the cores for another application/experiment!\n",
    "spark_context.stop()"
   ]
  },
  {
   "cell_type": "code",
   "execution_count": null,
   "id": "0e9daee0-0e4c-40b6-b443-64566de1be6e",
   "metadata": {},
   "outputs": [],
   "source": []
  }
 ],
 "metadata": {
  "kernelspec": {
   "display_name": "Python 3 (ipykernel)",
   "language": "python",
   "name": "python3"
  },
  "language_info": {
   "codemirror_mode": {
    "name": "ipython",
    "version": 3
   },
   "file_extension": ".py",
   "mimetype": "text/x-python",
   "name": "python",
   "nbconvert_exporter": "python",
   "pygments_lexer": "ipython3",
   "version": "3.8.10"
  }
 },
 "nbformat": 4,
 "nbformat_minor": 5
}
